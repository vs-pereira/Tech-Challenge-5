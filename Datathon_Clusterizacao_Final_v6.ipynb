{
  "cells": [
    {
      "cell_type": "markdown",
      "metadata": {
        "id": "view-in-github",
        "colab_type": "text"
      },
      "source": [
        "<a href=\"https://colab.research.google.com/github/vs-pereira/Tech-Challenge-5/blob/main/Datathon_Clusterizacao_Final_v6.ipynb\" target=\"_parent\"><img src=\"https://colab.research.google.com/assets/colab-badge.svg\" alt=\"Open In Colab\"/></a>"
      ]
    },
    {
      "cell_type": "markdown",
      "id": "31df9879",
      "metadata": {
        "id": "31df9879"
      },
      "source": [
        "# Análise de Perfis Ideais de Candidatos Contratados via Clusterização\n",
        "Notebook completo revisado com todas as seções e melhorias."
      ]
    },
    {
      "cell_type": "markdown",
      "id": "a046fb06",
      "metadata": {
        "id": "a046fb06"
      },
      "source": [
        "## 1. Carregamento e Integração de Dados"
      ]
    },
    {
      "cell_type": "code",
      "execution_count": 1,
      "id": "3eb28a79",
      "metadata": {
        "colab": {
          "base_uri": "https://localhost:8080/"
        },
        "id": "3eb28a79",
        "outputId": "b8d70981-11d5-49ea-ae7c-36c04c881d72"
      },
      "outputs": [
        {
          "output_type": "stream",
          "name": "stdout",
          "text": [
            "Mounted at /content/drive\n",
            "(56702, 19)\n"
          ]
        }
      ],
      "source": [
        "import pandas as pd\n",
        "\n",
        "# Montar Drive (Google Colab)\n",
        "from google.colab import drive\n",
        "drive.mount('/content/drive')\n",
        "\n",
        "BASE = '/content/drive/MyDrive/Pós-Graduação - Data Analytics 2024 (FIAP)/Tech Challenge 5'\n",
        "vagas = pd.read_json(f'{BASE}/vagas.json', orient='index')\n",
        "prospects = pd.read_json(f'{BASE}/prospects.json', orient='index')\n",
        "applicants = pd.read_json(f'{BASE}/applicants.json', orient='index')\n",
        "\n",
        "# Explodir prospects\n",
        "prospects = prospects.explode('prospects').reset_index(names=['job_id'])\n",
        "prospects_full = pd.concat([\n",
        "    prospects[['job_id']].reset_index(drop=True),\n",
        "    pd.json_normalize(prospects['prospects'])\n",
        "], axis=1)\n",
        "\n",
        "# Criar is_hired\n",
        "status_col = [c for c in prospects_full.columns if 'status' in c.lower() or 'situacao' in c.lower()][0]\n",
        "prospects_full['is_hired'] = prospects_full[status_col].astype(str).str.contains('contrat', case=False).astype(int)\n",
        "\n",
        "# Identificar id_candidato e merge\n",
        "df = prospects_full.merge(vagas, how='left', left_on='job_id', right_index=True)\n",
        "id_col = 'id_candidato' if 'id_candidato' in df.columns else 'codigo'\n",
        "df[id_col] = df[id_col].astype(str)\n",
        "applicants.index = applicants.index.astype(str)\n",
        "df = df.merge(applicants, how='left', left_on=id_col, right_index=True)\n",
        "\n",
        "print(df.shape)"
      ]
    },
    {
      "cell_type": "markdown",
      "id": "c1b51ab6",
      "metadata": {
        "id": "c1b51ab6"
      },
      "source": [
        "## 2. Pré-processamento dos Dados"
      ]
    },
    {
      "cell_type": "code",
      "execution_count": 3,
      "id": "0c3950fe",
      "metadata": {
        "colab": {
          "base_uri": "https://localhost:8080/"
        },
        "id": "0c3950fe",
        "outputId": "5354bfd2-2308-4714-9b53-36875ded9e79"
      },
      "outputs": [
        {
          "output_type": "stream",
          "name": "stdout",
          "text": [
            "Shape X: (56702, 152097)\n"
          ]
        }
      ],
      "source": [
        "from sklearn.preprocessing import StandardScaler, OneHotEncoder\n",
        "from sklearn.feature_extraction.text import TfidfVectorizer\n",
        "from sklearn.decomposition import TruncatedSVD\n",
        "from sklearn.compose import ColumnTransformer\n",
        "from sklearn.pipeline import Pipeline\n",
        "import json\n",
        "\n",
        "# 1) Selecionar features e rótulo\n",
        "cols_drop = ['job_id', id_col, status_col, 'is_hired']\n",
        "df_feat = df.drop(columns=[c for c in cols_drop if c in df.columns])\n",
        "\n",
        "# 2) Preencher ausentes numéricos e categóricos\n",
        "for c in df_feat.select_dtypes(include='number'):\n",
        "    df_feat[c] = df_feat[c].fillna(df_feat[c].median())\n",
        "for c in df_feat.select_dtypes(include=['object', 'category']):\n",
        "    df_feat[c] = df_feat[c].fillna('Desconhecido')\n",
        "\n",
        "# 3) Converter quaisquer dicts em strings JSON para o OneHotEncoder\n",
        "dict_cols = [\n",
        "    c for c in df_feat.select_dtypes(include=['object', 'category']).columns\n",
        "    if df_feat[c].apply(lambda x: isinstance(x, dict)).any()\n",
        "]\n",
        "for col in dict_cols:\n",
        "    df_feat[col] = df_feat[col].apply(\n",
        "        lambda x: json.dumps(x, ensure_ascii=False) if isinstance(x, dict)\n",
        "                  else (str(x) if pd.notna(x) else 'Desconhecido')\n",
        "    )\n",
        "    # garantir que não há nulos depois da conversão\n",
        "    df_feat[col] = df_feat[col].fillna('Desconhecido')\n",
        "\n",
        "# 4) Preparar texto unificado\n",
        "text_cols = [c for c in ['curriculo','comentario','competencias_tecnicas'] if c in df_feat]\n",
        "df_feat[text_cols] = df_feat[text_cols].fillna('')\n",
        "df_feat['texto_unificado'] = df_feat[text_cols].agg(' '.join, axis=1)\n",
        "\n",
        "# 5) Definir colunas numéricas e categóricas\n",
        "num_cols = df_feat.select_dtypes(include='number').columns.tolist()\n",
        "cat_cols = [c for c in df_feat.select_dtypes(include=['object', 'category']).columns\n",
        "            if c != 'texto_unificado']\n",
        "\n",
        "# 6) Montar o pipeline de texto e o ColumnTransformer\n",
        "text_pipe = Pipeline([\n",
        "    ('tfidf', TfidfVectorizer(max_features=20000, min_df=3)),\n",
        "    ('svd', TruncatedSVD(n_components=100, random_state=42))\n",
        "])\n",
        "\n",
        "preproc = ColumnTransformer([\n",
        "    ('num', StandardScaler(), num_cols),\n",
        "    ('cat', OneHotEncoder(handle_unknown='ignore'), cat_cols),\n",
        "    ('txt', text_pipe, 'texto_unificado')\n",
        "])\n",
        "\n",
        "# 7) Aplicar transformação final\n",
        "X = preproc.fit_transform(df_feat)\n",
        "print('Shape X:', X.shape)"
      ]
    },
    {
      "cell_type": "markdown",
      "id": "497d826c",
      "metadata": {
        "id": "497d826c"
      },
      "source": [
        "## 3. Redução de Dimensionalidade (UMAP)"
      ]
    },
    {
      "cell_type": "code",
      "execution_count": 4,
      "id": "bc96d1b0",
      "metadata": {
        "colab": {
          "base_uri": "https://localhost:8080/"
        },
        "id": "bc96d1b0",
        "outputId": "ee4c6937-c2e0-49f7-b40f-cf41f7401f83"
      },
      "outputs": [
        {
          "output_type": "stream",
          "name": "stderr",
          "text": [
            "/usr/local/lib/python3.11/dist-packages/sklearn/utils/deprecation.py:151: FutureWarning: 'force_all_finite' was renamed to 'ensure_all_finite' in 1.6 and will be removed in 1.8.\n",
            "  warnings.warn(\n",
            "/usr/local/lib/python3.11/dist-packages/umap/umap_.py:1952: UserWarning: n_jobs value 1 overridden to 1 by setting random_state. Use no seed for parallelism.\n",
            "  warn(\n"
          ]
        },
        {
          "output_type": "stream",
          "name": "stdout",
          "text": [
            "Dimensão pós-UMAP: (56702, 2)\n"
          ]
        }
      ],
      "source": [
        "import umap\n",
        "reducer = umap.UMAP(n_neighbors=30, min_dist=0.0, metric='cosine', random_state=42)\n",
        "X_2d = reducer.fit_transform(X)\n",
        "print('Dimensão pós-UMAP:', X_2d.shape)"
      ]
    },
    {
      "cell_type": "markdown",
      "id": "4913107e",
      "metadata": {
        "id": "4913107e"
      },
      "source": [
        "## 4. Clusterização e Métricas"
      ]
    },
    {
      "cell_type": "code",
      "source": [
        "!pip install hdbscan\n",
        "import hdbscan\n",
        "from sklearn.cluster import KMeans\n",
        "from sklearn.metrics import silhouette_score, davies_bouldin_score\n",
        "\n",
        "# HDBSCAN\n",
        "clusterer = hdbscan.HDBSCAN(min_cluster_size=20, metric='euclidean')\n",
        "labels_hdb = clusterer.fit_predict(X_2d)\n",
        "n_hdb = len(set(labels_hdb)) - (1 if -1 in labels_hdb else 0)\n",
        "print(f'HDBSCAN: {n_hdb} clusters (excluindo ruído)')\n",
        "mask = labels_hdb != -1\n",
        "print('Silhouette HDBSCAN:', silhouette_score(X_2d[mask], labels_hdb[mask]) if n_hdb>1 else 'N/A')\n",
        "\n",
        "# K-Means\n",
        "for k in range(2, 11):\n",
        "    km = KMeans(n_clusters=k, random_state=42)\n",
        "    lab = km.fit_predict(X_2d)\n",
        "    sil = silhouette_score(X_2d, lab)\n",
        "    db = davies_bouldin_score(X_2d, lab)\n",
        "    print(f'K={k}: Silhouette={sil:.3f}, Davies-Bouldin={db:.3f}')"
      ],
      "metadata": {
        "colab": {
          "base_uri": "https://localhost:8080/"
        },
        "id": "HlMYjPGFQqkI",
        "outputId": "264cb1a9-fe44-46b7-da95-f0d26032e0e2"
      },
      "id": "HlMYjPGFQqkI",
      "execution_count": 6,
      "outputs": [
        {
          "output_type": "stream",
          "name": "stdout",
          "text": [
            "Requirement already satisfied: hdbscan in /usr/local/lib/python3.11/dist-packages (0.8.40)\n",
            "Requirement already satisfied: numpy<3,>=1.20 in /usr/local/lib/python3.11/dist-packages (from hdbscan) (2.0.2)\n",
            "Requirement already satisfied: scipy>=1.0 in /usr/local/lib/python3.11/dist-packages (from hdbscan) (1.15.3)\n",
            "Requirement already satisfied: scikit-learn>=0.20 in /usr/local/lib/python3.11/dist-packages (from hdbscan) (1.6.1)\n",
            "Requirement already satisfied: joblib>=1.0 in /usr/local/lib/python3.11/dist-packages (from hdbscan) (1.5.0)\n",
            "Requirement already satisfied: threadpoolctl>=3.1.0 in /usr/local/lib/python3.11/dist-packages (from scikit-learn>=0.20->hdbscan) (3.6.0)\n"
          ]
        },
        {
          "output_type": "stream",
          "name": "stderr",
          "text": [
            "/usr/local/lib/python3.11/dist-packages/sklearn/utils/deprecation.py:151: FutureWarning: 'force_all_finite' was renamed to 'ensure_all_finite' in 1.6 and will be removed in 1.8.\n",
            "  warnings.warn(\n",
            "/usr/local/lib/python3.11/dist-packages/sklearn/utils/deprecation.py:151: FutureWarning: 'force_all_finite' was renamed to 'ensure_all_finite' in 1.6 and will be removed in 1.8.\n",
            "  warnings.warn(\n"
          ]
        },
        {
          "output_type": "stream",
          "name": "stdout",
          "text": [
            "HDBSCAN: 333 clusters (excluindo ruído)\n",
            "Silhouette HDBSCAN: 0.60160506\n",
            "K=2: Silhouette=0.658, Davies-Bouldin=0.289\n",
            "K=3: Silhouette=0.683, Davies-Bouldin=0.305\n",
            "K=4: Silhouette=0.515, Davies-Bouldin=0.565\n",
            "K=5: Silhouette=0.568, Davies-Bouldin=0.529\n",
            "K=6: Silhouette=0.567, Davies-Bouldin=0.519\n",
            "K=7: Silhouette=0.583, Davies-Bouldin=0.495\n",
            "K=8: Silhouette=0.603, Davies-Bouldin=0.558\n",
            "K=9: Silhouette=0.614, Davies-Bouldin=0.464\n",
            "K=10: Silhouette=0.543, Davies-Bouldin=0.594\n"
          ]
        }
      ]
    },
    {
      "cell_type": "code",
      "execution_count": 7,
      "id": "f6b01dfd",
      "metadata": {
        "colab": {
          "base_uri": "https://localhost:8080/"
        },
        "id": "f6b01dfd",
        "outputId": "aa6d4933-6d96-4338-b12a-452e8d3a87c8"
      },
      "outputs": [
        {
          "output_type": "stream",
          "name": "stderr",
          "text": [
            "/usr/local/lib/python3.11/dist-packages/sklearn/utils/deprecation.py:151: FutureWarning: 'force_all_finite' was renamed to 'ensure_all_finite' in 1.6 and will be removed in 1.8.\n",
            "  warnings.warn(\n",
            "/usr/local/lib/python3.11/dist-packages/sklearn/utils/deprecation.py:151: FutureWarning: 'force_all_finite' was renamed to 'ensure_all_finite' in 1.6 and will be removed in 1.8.\n",
            "  warnings.warn(\n"
          ]
        },
        {
          "output_type": "stream",
          "name": "stdout",
          "text": [
            "HDBSCAN clusters: 333\n",
            "Silhouette K=3: 0.6827471\n",
            "DB K=3: 0.3051552857143532\n"
          ]
        }
      ],
      "source": [
        "import hdbscan\n",
        "from sklearn.cluster import KMeans\n",
        "from sklearn.metrics import silhouette_score, davies_bouldin_score\n",
        "\n",
        "# HDBSCAN\n",
        "clusterer = hdbscan.HDBSCAN(min_cluster_size=20)\n",
        "labels_hdb = clusterer.fit_predict(X_2d)\n",
        "df['cluster'] = labels_hdb\n",
        "\n",
        "# K-Means K=3\n",
        "km3 = KMeans(n_clusters=3, random_state=42)\n",
        "df['cluster_k3'] = km3.fit_predict(X_2d)\n",
        "\n",
        "print('HDBSCAN clusters:', len(set(labels_hdb)) - (1 if -1 in labels_hdb else 0))\n",
        "print('Silhouette K=3:', silhouette_score(X_2d, df['cluster_k3']))\n",
        "print('DB K=3:', davies_bouldin_score(X_2d, df['cluster_k3']))"
      ]
    },
    {
      "cell_type": "markdown",
      "id": "d5534f7f",
      "metadata": {
        "id": "d5534f7f"
      },
      "source": [
        "## 5. Resumo de Contratação por Cluster"
      ]
    },
    {
      "cell_type": "code",
      "execution_count": 8,
      "id": "7d2d20d8",
      "metadata": {
        "colab": {
          "base_uri": "https://localhost:8080/"
        },
        "id": "7d2d20d8",
        "outputId": "76457a80-a266-4888-cb3a-e7c79adcdc6f"
      },
      "outputs": [
        {
          "output_type": "stream",
          "name": "stdout",
          "text": [
            "     cluster  total  hired  pct_hired\n",
            "120      120     45     44       97.8\n",
            "40        40     97     92       94.8\n",
            "117      117     32     30       93.8\n",
            "10        10     31     29       93.5\n",
            "33        33     34     24       70.6\n",
            "22        22    126     70       55.6\n",
            "21        21    130     67       51.5\n",
            "170      170     52     25       48.1\n",
            "50        50     71     32       45.1\n",
            "11        11    190     83       43.7\n"
          ]
        }
      ],
      "source": [
        "summary = (\n",
        "    df[df['cluster']!=-1]\n",
        "      .groupby('cluster')\n",
        "      .agg(total=('cluster','size'),\n",
        "           hired=('is_hired','sum'),\n",
        "           pct_hired=('is_hired','mean'))\n",
        "      .reset_index()\n",
        ")\n",
        "summary['pct_hired'] = (summary['pct_hired']*100).round(1)\n",
        "print(summary.sort_values('pct_hired', ascending=False).head(10))"
      ]
    },
    {
      "cell_type": "code",
      "source": [
        "# → Exportar o DataFrame final com todas as colunas de cluster e is_hired\n",
        "df.to_csv('df_final.csv', index=False)"
      ],
      "metadata": {
        "id": "e4hoTEiqqv4R"
      },
      "id": "e4hoTEiqqv4R",
      "execution_count": 28,
      "outputs": []
    },
    {
      "cell_type": "code",
      "source": [
        "%%bash\n",
        "zip -j df_final.zip df_final.csv"
      ],
      "metadata": {
        "colab": {
          "base_uri": "https://localhost:8080/"
        },
        "id": "lVFYl29uqx91",
        "outputId": "8a25f5b1-0e41-4481-9ef1-4878e5b91604"
      },
      "id": "lVFYl29uqx91",
      "execution_count": 29,
      "outputs": [
        {
          "output_type": "stream",
          "name": "stdout",
          "text": [
            "updating: df_final.csv (deflated 79%)\n"
          ]
        }
      ]
    },
    {
      "cell_type": "markdown",
      "id": "36dd3589",
      "metadata": {
        "id": "36dd3589"
      },
      "source": [
        "## 6. Visualização: Top 10 Clusters"
      ]
    },
    {
      "cell_type": "code",
      "execution_count": 11,
      "id": "6a7309c3",
      "metadata": {
        "colab": {
          "base_uri": "https://localhost:8080/",
          "height": 714
        },
        "id": "6a7309c3",
        "outputId": "c7284a6c-39d8-4be0-ac04-da60361a2205"
      },
      "outputs": [
        {
          "output_type": "stream",
          "name": "stderr",
          "text": [
            "<ipython-input-11-4f6dc50da868>:9: FutureWarning: \n",
            "\n",
            "Passing `palette` without assigning `hue` is deprecated and will be removed in v0.14.0. Assign the `y` variable to `hue` and set `legend=False` for the same effect.\n",
            "\n",
            "  ax = sns.barplot(\n"
          ]
        },
        {
          "output_type": "display_data",
          "data": {
            "text/plain": [
              "<Figure size 800x600 with 1 Axes>"
            ],
            "image/png": "[encoded data removed]"
          },
          "metadata": {}
        }
      ],
      "source": [
        "import matplotlib.pyplot as plt\n",
        "import seaborn as sns\n",
        "\n",
        "# Preparar dados\n",
        "top10 = summary.sort_values('pct_hired', ascending=False).head(10)\n",
        "\n",
        "# Plot\n",
        "plt.figure(figsize=(8,6))\n",
        "ax = sns.barplot(\n",
        "    x='pct_hired',\n",
        "    y='cluster',\n",
        "    data=top10,\n",
        "    palette='viridis',\n",
        "    orient='h',\n",
        "    order=top10['cluster']\n",
        ")\n",
        "\n",
        "# Linha da média geral\n",
        "plt.axvline(df['is_hired'].mean()*100, color='red', linestyle='--', label='Média Geral')\n",
        "\n",
        "# Inserir rótulos de dados (percentuais) ao lado de cada barra\n",
        "for i, v in enumerate(top10['pct_hired']):\n",
        "    ax.text(v + 1, i, f\"{v}%\", va='center')\n",
        "\n",
        "# Ajustes finais\n",
        "plt.title('Top 10 Clusters por % Contratados')\n",
        "plt.xlabel('% Contratados')\n",
        "plt.ylabel('Cluster')\n",
        "plt.legend()\n",
        "plt.tight_layout()\n",
        "plt.show()"
      ]
    },
    {
      "cell_type": "markdown",
      "id": "28485922",
      "metadata": {
        "id": "28485922"
      },
      "source": [
        "## 7. Flatten seletivo de atributos de candidatos"
      ]
    },
    {
      "cell_type": "code",
      "execution_count": 14,
      "id": "0cf47f01",
      "metadata": {
        "colab": {
          "base_uri": "https://localhost:8080/"
        },
        "id": "0cf47f01",
        "outputId": "d5555d8e-4d3e-439f-92fe-c943d05b8699"
      },
      "outputs": [
        {
          "output_type": "stream",
          "name": "stdout",
          "text": [
            "Exemplos de colunas extraídas: ['job_id', 'nome', 'codigo', 'situacao_candidado', 'data_candidatura', 'ultima_atualizacao', 'comentario', 'recrutador', 'is_hired', 'informacoes_basicas']\n"
          ]
        }
      ],
      "source": [
        "# Flatten corretivo\n",
        "import pandas as pd\n",
        "\n",
        "nested_cols = ['formacao_e_idiomas', 'informacoes_profissionais', 'infos_basicas']\n",
        "for col in nested_cols:\n",
        "    if col in df.columns:\n",
        "        # substituir nulos por dict vazio\n",
        "        df[col] = df[col].apply(lambda x: {} if pd.isna(x) else x)\n",
        "        # normalizar lista de dicts\n",
        "        flat = pd.json_normalize(df[col].tolist())\n",
        "        # prefixar cada coluna para não colidir com df original\n",
        "        flat.columns = [f\"{col}_{c.split('.')[-1]}\" for c in flat.columns]\n",
        "        flat.index = df.index\n",
        "        # remover a coluna aninhada e anexar as colunas prefixadas\n",
        "        df = pd.concat([df.drop(columns=[col]), flat], axis=1)\n",
        "\n",
        "# confira as novas colunas prefixadas\n",
        "print(\"Exemplos de colunas extraídas:\", df.columns.tolist()[:10])"
      ]
    },
    {
      "cell_type": "markdown",
      "id": "d7f68710",
      "metadata": {
        "id": "d7f68710"
      },
      "source": [
        "## 8. Verificação das colunas extraídas"
      ]
    },
    {
      "cell_type": "code",
      "execution_count": 15,
      "id": "184f88dd",
      "metadata": {
        "colab": {
          "base_uri": "https://localhost:8080/"
        },
        "id": "184f88dd",
        "outputId": "2fa7d886-abaf-4106-982e-bf73b5669d94"
      },
      "outputs": [
        {
          "output_type": "stream",
          "name": "stdout",
          "text": [
            "certificacoes: presente\n",
            "outras_certificacoes: presente\n",
            "qualificacoes: presente\n",
            "experiencias: presente\n",
            "outro_idioma: presente\n",
            "nivel_profissional: presente\n",
            "area_atuacao: presente\n",
            "sabendo_de_nos_por: ausente\n",
            "nivel_ingles: presente\n"
          ]
        }
      ],
      "source": [
        "cols_check = ['certificacoes','outras_certificacoes','qualificacoes','experiencias',\n",
        "               'outro_idioma','nivel_profissional','area_atuacao','sabendo_de_nos_por','nivel_ingles']\n",
        "for c in cols_check:\n",
        "    print(f\"{c}: {'presente' if c in df.columns else 'ausente'}\")"
      ]
    },
    {
      "cell_type": "markdown",
      "id": "edda4d2b",
      "metadata": {
        "id": "edda4d2b"
      },
      "source": [
        "## 9. Detalhamento do Top Cluster (120)"
      ]
    },
    {
      "cell_type": "code",
      "execution_count": 20,
      "id": "88e73a16",
      "metadata": {
        "colab": {
          "base_uri": "https://localhost:8080/"
        },
        "id": "88e73a16",
        "outputId": "dabf02b7-e6cf-46eb-cc49-612a0aa03af9"
      },
      "outputs": [
        {
          "output_type": "stream",
          "name": "stdout",
          "text": [
            "=== Detalhamento Cluster 120 (n=45) ===\n",
            "• certificacoes:\n",
            "certificacoes\n",
            "                                                                                                                                                                                                                                                                                    42\n",
            "MS [70-431] Microsoft SQL Server 2005 – Implementation and Maintenance                                                                                                                                                                                                               1\n",
            "Linux Administrator Level I - LPIC I, ITIL v3 - IT Infraestructure Library                                                                                                                                                                                                           1\n",
            "MS [70-642] Windows Server 2008 Network Infrastructure, Configuring, Oracle Certified Professional, Database Cloud Administrator, Oracle Certified Associate, Oracle Solaris 10 Operating System, Oracle Certified Professional, Oracle Solaris Cluster 3.2 System Administrator     1\n",
            "• outras_certificacoes:\n",
            "outras_certificacoes\n",
            "    45\n",
            "• qualificacoes:\n",
            "qualificacoes\n",
            "    2\n",
            "• experiencias:\n",
            "experiencias\n",
            "    2\n",
            "• outro_idioma:\n",
            "outro_idioma\n",
            "-                      40\n",
            "Português - Fluente     3\n",
            "Japonês - Avançado      1\n",
            "Japonês - Básico        1\n",
            "• nivel_profissional:\n",
            "nivel_profissional\n",
            "    45\n",
            "• area_atuacao:\n",
            "area_atuacao\n",
            "                                                                                                                                                                  14\n",
            "TI - Desenvolvimento/Programação                                                                                                                                   8\n",
            "TI - Projetos                                                                                                                                                      5\n",
            "TI - Qualidade/Testes                                                                                                                                              4\n",
            "TI - Processos e Negócios                                                                                                                                          2\n",
            "TI - Desenvolvimento/Design                                                                                                                                        2\n",
            "TI - Arquitetura, TI - Desenvolvimento/Programação, TI - Processos e Negócios, TI - Projetos, TI - Qualidade/Testes, TI - Sistemas e Ferramentas, TI - Suporte     1\n",
            "TI - Desenvolvimento/Design, TI - Qualidade/Testes                                                                                                                 1\n",
            "TI - Desenvolvimento/Programação, TI - Projetos, TI - Qualidade/Testes                                                                                             1\n",
            "TI - Arquitetura, TI - Desenvolvimento/Programação, TI - Governança, TI - Processos e Negócios, TI - Projetos, TI - Sistemas e Ferramentas                         1\n",
            "• nivel_ingles:\n",
            "nivel_ingles\n",
            "Básico           14\n",
            "                 14\n",
            "Intermediário    11\n",
            "Avançado          4\n",
            "Fluente           2\n"
          ]
        }
      ],
      "source": [
        "# Cluster de maior especificidade\n",
        "cl = 120\n",
        "detail_cols = [c for c in cols_check if c in df.columns]\n",
        "\n",
        "print(f\"=== Detalhamento Cluster {cl} (n={len(df[df['cluster']==cl])}) ===\")\n",
        "for col in detail_cols:\n",
        "    serie = df[df['cluster']==cl][col].dropna()\n",
        "    if serie.apply(lambda x: isinstance(x, list)).any():\n",
        "        serie = serie.explode()\n",
        "    vc = serie.value_counts().head(10)\n",
        "    print(f\"• {col}:\")\n",
        "    print(vc.to_string() if not vc.empty else \"   (nenhum valor registrado)\")"
      ]
    },
    {
      "cell_type": "markdown",
      "id": "729a90db",
      "metadata": {
        "id": "729a90db"
      },
      "source": [
        "## 10. Conclusões Finais\n",
        "\n",
        "1. **Priorização de certificações formais**  \n",
        "   1.1. Foco em **bancos de dados**: SQL Server (MS 70-431), Oracle (DBA, Solaris)  \n",
        "   1.2. Foco em **infraestrutura**: Linux (LPIC I), ITIL v3  \n",
        "\n",
        "2. **Áreas de atuação-chave**  \n",
        "   2.1. **Desenvolvimento/Programação** (14/45)  \n",
        "   2.2. **Gestão de Projetos** (8/45) e **Qualidade/Testes** (4/45)  \n",
        "\n",
        "3. **Nível de inglês**  \n",
        "   3.1. Inglês **Básico** e **Intermediário** predominam  \n",
        "   3.2. Inglês **Avançado/Fluente** não é critério obrigatório  \n",
        "\n",
        "4. **Micro-certificações e treinamentos rápidos**  \n",
        "   4.1. 100 % dos contratados têm “outras_certificacoes” (workshops, cursos internos, etc.)  "
      ]
    },
    {
      "cell_type": "code",
      "source": [
        "# 1) Salvar o DataFrame como CSV no Colab\n",
        "df_feat.to_csv('df_final.csv', index=False)\n",
        "\n",
        "# 2) (Opcional) Baixar direto para sua máquina\n",
        "from google.colab import files\n",
        "files.download('df_final.csv')\n"
      ],
      "metadata": {
        "colab": {
          "base_uri": "https://localhost:8080/",
          "height": 17
        },
        "id": "fDej1yIfgwwG",
        "outputId": "3e4d1f9b-a659-458a-b110-e5ff491f5428"
      },
      "id": "fDej1yIfgwwG",
      "execution_count": 22,
      "outputs": [
        {
          "output_type": "display_data",
          "data": {
            "text/plain": [
              "<IPython.core.display.Javascript object>"
            ],
            "application/javascript": [
              "\n",
              "    async function download(id, filename, size) {\n",
              "      if (!google.colab.kernel.accessAllowed) {\n",
              "        return;\n",
              "      }\n",
              "      const div = document.createElement('div');\n",
              "      const label = document.createElement('label');\n",
              "      label.textContent = `Downloading \"${filename}\": `;\n",
              "      div.appendChild(label);\n",
              "      const progress = document.createElement('progress');\n",
              "      progress.max = size;\n",
              "      div.appendChild(progress);\n",
              "      document.body.appendChild(div);\n",
              "\n",
              "      const buffers = [];\n",
              "      let downloaded = 0;\n",
              "\n",
              "      const channel = await google.colab.kernel.comms.open(id);\n",
              "      // Send a message to notify the kernel that we're ready.\n",
              "      channel.send({})\n",
              "\n",
              "      for await (const message of channel.messages) {\n",
              "        // Send a message to notify the kernel that we're ready.\n",
              "        channel.send({})\n",
              "        if (message.buffers) {\n",
              "          for (const buffer of message.buffers) {\n",
              "            buffers.push(buffer);\n",
              "            downloaded += buffer.byteLength;\n",
              "            progress.value = downloaded;\n",
              "          }\n",
              "        }\n",
              "      }\n",
              "      const blob = new Blob(buffers, {type: 'application/binary'});\n",
              "      const a = document.createElement('a');\n",
              "      a.href = window.URL.createObjectURL(blob);\n",
              "      a.download = filename;\n",
              "      div.appendChild(a);\n",
              "      a.click();\n",
              "      div.remove();\n",
              "    }\n",
              "  "
            ]
          },
          "metadata": {}
        },
        {
          "output_type": "display_data",
          "data": {
            "text/plain": [
              "<IPython.core.display.Javascript object>"
            ],
            "application/javascript": [
              "download(\"download_b2283d0c-3ae3-47bb-9614-5ba3efc0b820\", \"df_final.csv\", 444115884)"
            ]
          },
          "metadata": {}
        }
      ]
    },
    {
      "cell_type": "code",
      "source": [
        "# no Colab, depois de ter df_final definido:\n",
        "df_feat.to_parquet('df_final', index=False, compression='gzip')\n",
        "\n",
        "# faça o download\n",
        "from google.colab import files\n",
        "files.download('df_final')\n"
      ],
      "metadata": {
        "colab": {
          "base_uri": "https://localhost:8080/",
          "height": 17
        },
        "id": "6322x1W7iYt7",
        "outputId": "6c9f326c-013a-4d4a-c5c6-14cdb0c71e2a"
      },
      "id": "6322x1W7iYt7",
      "execution_count": 24,
      "outputs": [
        {
          "output_type": "display_data",
          "data": {
            "text/plain": [
              "<IPython.core.display.Javascript object>"
            ],
            "application/javascript": [
              "\n",
              "    async function download(id, filename, size) {\n",
              "      if (!google.colab.kernel.accessAllowed) {\n",
              "        return;\n",
              "      }\n",
              "      const div = document.createElement('div');\n",
              "      const label = document.createElement('label');\n",
              "      label.textContent = `Downloading \"${filename}\": `;\n",
              "      div.appendChild(label);\n",
              "      const progress = document.createElement('progress');\n",
              "      progress.max = size;\n",
              "      div.appendChild(progress);\n",
              "      document.body.appendChild(div);\n",
              "\n",
              "      const buffers = [];\n",
              "      let downloaded = 0;\n",
              "\n",
              "      const channel = await google.colab.kernel.comms.open(id);\n",
              "      // Send a message to notify the kernel that we're ready.\n",
              "      channel.send({})\n",
              "\n",
              "      for await (const message of channel.messages) {\n",
              "        // Send a message to notify the kernel that we're ready.\n",
              "        channel.send({})\n",
              "        if (message.buffers) {\n",
              "          for (const buffer of message.buffers) {\n",
              "            buffers.push(buffer);\n",
              "            downloaded += buffer.byteLength;\n",
              "            progress.value = downloaded;\n",
              "          }\n",
              "        }\n",
              "      }\n",
              "      const blob = new Blob(buffers, {type: 'application/binary'});\n",
              "      const a = document.createElement('a');\n",
              "      a.href = window.URL.createObjectURL(blob);\n",
              "      a.download = filename;\n",
              "      div.appendChild(a);\n",
              "      a.click();\n",
              "      div.remove();\n",
              "    }\n",
              "  "
            ]
          },
          "metadata": {}
        },
        {
          "output_type": "display_data",
          "data": {
            "text/plain": [
              "<IPython.core.display.Javascript object>"
            ],
            "application/javascript": [
              "download(\"download_8ebc9eec-cbd6-4947-91aa-def2495c60c6\", \"df_final\", 80738447)"
            ]
          },
          "metadata": {}
        }
      ]
    },
    {
      "cell_type": "code",
      "source": [
        "!zip df_final.zip df_final.csv"
      ],
      "metadata": {
        "colab": {
          "base_uri": "https://localhost:8080/"
        },
        "id": "OiS--57ZjL3G",
        "outputId": "0be50f4f-621a-4355-c5f3-9500b6fe35a2"
      },
      "id": "OiS--57ZjL3G",
      "execution_count": 27,
      "outputs": [
        {
          "output_type": "stream",
          "name": "stdout",
          "text": [
            "  adding: df_final.csv (deflated 80%)\n"
          ]
        }
      ]
    }
  ],
  "metadata": {
    "colab": {
      "provenance": [],
      "include_colab_link": true
    },
    "language_info": {
      "name": "python"
    },
    "kernelspec": {
      "name": "python3",
      "display_name": "Python 3"
    }
  },
  "nbformat": 4,
  "nbformat_minor": 5
}